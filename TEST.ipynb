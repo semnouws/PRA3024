{
 "cells": [
  {
   "cell_type": "code",
   "execution_count": 1,
   "id": "5fd539d8-17bf-410f-a909-d92c77126089",
   "metadata": {
    "tags": []
   },
   "outputs": [
    {
     "name": "stdout",
     "output_type": "stream",
     "text": [
      "hello world\n"
     ]
    }
   ],
   "source": [
    "print(\"hello world\")"
   ]
  },
  {
   "cell_type": "raw",
   "id": "e78200d4-ff5b-4c02-8b49-4b1344ae3502",
   "metadata": {},
   "source": [
    "print(\"fake code\")"
   ]
  },
  {
   "cell_type": "markdown",
   "id": "c41cbf62-fabe-463c-b11f-b187d03228b2",
   "metadata": {},
   "source": [
    "This is just a text\n"
   ]
  }
 ],
 "metadata": {
  "kernelspec": {
   "display_name": "Python 3 (ipykernel)",
   "language": "python",
   "name": "python3"
  },
  "language_info": {
   "codemirror_mode": {
    "name": "ipython",
    "version": 3
   },
   "file_extension": ".py",
   "mimetype": "text/x-python",
   "name": "python",
   "nbconvert_exporter": "python",
   "pygments_lexer": "ipython3",
   "version": "3.8.13"
  }
 },
 "nbformat": 4,
 "nbformat_minor": 5
}
